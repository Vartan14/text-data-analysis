{
 "cells": [
  {
   "cell_type": "markdown",
   "id": "a312a905-0074-4042-ac2a-168b4db747ff",
   "metadata": {
    "collapsed": false
   },
   "source": [
    "<h4>Лабораторна робота 1</h4>"
   ]
  },
  {
   "cell_type": "markdown",
   "source": [
    "**Створити програму, яка:**\n",
    "\n",
    "1. Зчитує текстовий файл відповідно до варіанту як рядок. За допомогою\n",
    "зрізів виділити частину тексту в окрему змінну-рядок та використати\n",
    "описані в теоретичних відомостях функції та методи для роботи з\n",
    "рядками.\n",
    "2. За допомогою регулярних виразів виконати завдання відповідно до\n",
    "варіанту.\n",
    "\n",
    "Варіант 11. Знайти всі номери телефонів та замінити у тексті будь-яким символом всі цифри номерів телефонів, крім перших двох."
   ],
   "metadata": {
    "collapsed": false
   },
   "id": "edfdecba9fdc6be5"
  },
  {
   "cell_type": "markdown",
   "source": [
    "Зчитування текстового файлу"
   ],
   "metadata": {
    "collapsed": false
   },
   "id": "13b8b4a1788d4b62"
  },
  {
   "cell_type": "code",
   "execution_count": 2,
   "id": "4196f5fb6305c7ca",
   "metadata": {
    "collapsed": false,
    "ExecuteTime": {
     "end_time": "2024-02-22T11:10:55.610145200Z",
     "start_time": "2024-02-22T11:10:55.475754800Z"
    }
   },
   "outputs": [],
   "source": [
    "with open('text.txt', 'r') as file:\n",
    "    text = file.read()"
   ]
  },
  {
   "cell_type": "code",
   "execution_count": 3,
   "id": "3f81580896542ac3",
   "metadata": {
    "collapsed": false,
    "ExecuteTime": {
     "end_time": "2024-02-22T11:10:55.627490200Z",
     "start_time": "2024-02-22T11:10:55.602054600Z"
    }
   },
   "outputs": [
    {
     "data": {
      "text/plain": "'Slowly and solemnly he was borne into Briony LODgE 145a and laid out in the\\nprincipal room, while I (094)-44-33 still observed the proceedings from my post\\nby the window 12/15/1892.    The lamps had been lit, but the blinds had not been\\ndrawn, so that I could see Holmes sh_holmes221@mail.uk as he lay upon the couch.... I do not\\nknow whether he was seized with compunction at that moment for the part\\nhe was playing, but I know that I never felt more heartily ashamed of\\nmyself in my life 34-34-32 than when I saw the beautiful creature against whom\\nI wston23@mymail.com was conspiring, or the grace and kindliness with which she waited\\nupon the injured man. And yet    it would be the blackest treachery to 1895-11-17\\nHolmes to draw back now from the part which he had intrusted to me AveNUe 123.\\nI hardened my heart Wtason Street 45b, and took the smoke-rocket from under my ulster.\\nAfter all,, 344-21-01 I thought, we are not injuring her. We are but preventing\\nher from injuring another adlerrr@mail.com.'"
     },
     "execution_count": 3,
     "metadata": {},
     "output_type": "execute_result"
    }
   ],
   "source": [
    "text"
   ]
  },
  {
   "cell_type": "markdown",
   "source": [
    "Функції та методи для роботи з рядками"
   ],
   "metadata": {
    "collapsed": false
   },
   "id": "481bbd450fa9fae7"
  },
  {
   "cell_type": "code",
   "execution_count": 4,
   "id": "e3e59a9c7d5309f8",
   "metadata": {
    "collapsed": false,
    "ExecuteTime": {
     "end_time": "2024-02-22T11:10:55.644425300Z",
     "start_time": "2024-02-22T11:10:55.615664200Z"
    }
   },
   "outputs": [
    {
     "data": {
      "text/plain": "'he was borne into Briony LODgE 145a'"
     },
     "execution_count": 4,
     "metadata": {},
     "output_type": "execute_result"
    }
   ],
   "source": [
    "# Зріз тексту\n",
    "sliced_text = text[20:55]\n",
    "sliced_text"
   ]
  },
  {
   "cell_type": "code",
   "execution_count": 5,
   "outputs": [
    {
     "data": {
      "text/plain": "35"
     },
     "execution_count": 5,
     "metadata": {},
     "output_type": "execute_result"
    }
   ],
   "source": [
    "# Довжина рядку\n",
    "len(sliced_text)"
   ],
   "metadata": {
    "collapsed": false,
    "ExecuteTime": {
     "end_time": "2024-02-22T11:10:55.714720300Z",
     "start_time": "2024-02-22T11:10:55.622314100Z"
    }
   },
   "id": "748ae6b7c88a628c"
  },
  {
   "cell_type": "code",
   "execution_count": 6,
   "outputs": [
    {
     "data": {
      "text/plain": "2"
     },
     "execution_count": 6,
     "metadata": {},
     "output_type": "execute_result"
    }
   ],
   "source": [
    "# Кількість літер 'a' у рядку\n",
    "sliced_text.count('a')"
   ],
   "metadata": {
    "collapsed": false,
    "ExecuteTime": {
     "end_time": "2024-02-22T11:10:55.716721400Z",
     "start_time": "2024-02-22T11:10:55.629492200Z"
    }
   },
   "id": "3fac729c380b465f"
  },
  {
   "cell_type": "code",
   "execution_count": 7,
   "outputs": [
    {
     "data": {
      "text/plain": "4"
     },
     "execution_count": 7,
     "metadata": {},
     "output_type": "execute_result"
    }
   ],
   "source": [
    "# Індекс першого входження 'a' у рядок\n",
    "sliced_text.find('a')"
   ],
   "metadata": {
    "collapsed": false,
    "ExecuteTime": {
     "end_time": "2024-02-22T11:10:55.735121400Z",
     "start_time": "2024-02-22T11:10:55.636899500Z"
    }
   },
   "id": "e2e1da5b4e7aa54"
  },
  {
   "cell_type": "code",
   "execution_count": 8,
   "outputs": [
    {
     "data": {
      "text/plain": "34"
     },
     "execution_count": 8,
     "metadata": {},
     "output_type": "execute_result"
    }
   ],
   "source": [
    "# Індекс останнього входження 'a' у рядок\n",
    "sliced_text.rfind('a')"
   ],
   "metadata": {
    "collapsed": false,
    "ExecuteTime": {
     "end_time": "2024-02-22T11:10:55.760157200Z",
     "start_time": "2024-02-22T11:10:55.716721400Z"
    }
   },
   "id": "aeac7f6bc03f746a"
  },
  {
   "cell_type": "code",
   "execution_count": 9,
   "outputs": [
    {
     "data": {
      "text/plain": "'HE WAS BORNE INTO BRIONY LODGE 145A'"
     },
     "execution_count": 9,
     "metadata": {},
     "output_type": "execute_result"
    }
   ],
   "source": [
    "# Замінимо усі символи на верхній регістр\n",
    "uppercased_text = sliced_text.upper()\n",
    "uppercased_text"
   ],
   "metadata": {
    "collapsed": false,
    "ExecuteTime": {
     "end_time": "2024-02-22T11:10:55.837571200Z",
     "start_time": "2024-02-22T11:10:55.761159600Z"
    }
   },
   "id": "15d5e5b6c00df512"
  },
  {
   "cell_type": "code",
   "execution_count": 10,
   "outputs": [
    {
     "data": {
      "text/plain": "True"
     },
     "execution_count": 10,
     "metadata": {},
     "output_type": "execute_result"
    }
   ],
   "source": [
    "# Перевіримо чи усі символи у верхньому регістрі\n",
    "uppercased_text.isupper()"
   ],
   "metadata": {
    "collapsed": false,
    "ExecuteTime": {
     "end_time": "2024-02-22T11:10:55.880857700Z",
     "start_time": "2024-02-22T11:10:55.838572400Z"
    }
   },
   "id": "c8d2879e0483c99b"
  },
  {
   "cell_type": "code",
   "execution_count": 11,
   "outputs": [
    {
     "data": {
      "text/plain": "['he', 'was', 'borne', 'into', 'Briony', 'LODgE', '145a']"
     },
     "execution_count": 11,
     "metadata": {},
     "output_type": "execute_result"
    }
   ],
   "source": [
    "# Розіб'ємо рядок на список слів\n",
    "words = sliced_text.split()\n",
    "words"
   ],
   "metadata": {
    "collapsed": false,
    "ExecuteTime": {
     "end_time": "2024-02-22T11:10:55.916794Z",
     "start_time": "2024-02-22T11:10:55.864274700Z"
    }
   },
   "id": "6f544206a074ab15"
  },
  {
   "cell_type": "code",
   "execution_count": 12,
   "outputs": [
    {
     "data": {
      "text/plain": "['He', 'was', 'borne', 'into', 'Briony', 'Lodge', '145a']"
     },
     "execution_count": 12,
     "metadata": {},
     "output_type": "execute_result"
    }
   ],
   "source": [
    "# Замінимо першу букву на велику, а решту на маленькі у словах 'he' та 'LODgE'\n",
    "words[0] = words[0].capitalize()\n",
    "words[5] = words[5].capitalize()\n",
    "words"
   ],
   "metadata": {
    "collapsed": false,
    "ExecuteTime": {
     "end_time": "2024-02-22T11:10:55.946608700Z",
     "start_time": "2024-02-22T11:10:55.918794500Z"
    }
   },
   "id": "3d1d6924ebcc6a66"
  },
  {
   "cell_type": "code",
   "execution_count": 13,
   "outputs": [
    {
     "data": {
      "text/plain": "'145'"
     },
     "execution_count": 13,
     "metadata": {},
     "output_type": "execute_result"
    }
   ],
   "source": [
    "# Дістанемо число\n",
    "number = words[-1][:3]\n",
    "number"
   ],
   "metadata": {
    "collapsed": false,
    "ExecuteTime": {
     "end_time": "2024-02-22T11:10:55.997554300Z",
     "start_time": "2024-02-22T11:10:55.947610400Z"
    }
   },
   "id": "5d673dc32fa9ce48"
  },
  {
   "cell_type": "code",
   "execution_count": 14,
   "outputs": [
    {
     "data": {
      "text/plain": "True"
     },
     "execution_count": 14,
     "metadata": {},
     "output_type": "execute_result"
    }
   ],
   "source": [
    "# Перевіримо чи всі символи є цифрами\n",
    "number.isdigit()"
   ],
   "metadata": {
    "collapsed": false,
    "ExecuteTime": {
     "end_time": "2024-02-22T11:10:56.015242700Z",
     "start_time": "2024-02-22T11:10:55.998553300Z"
    }
   },
   "id": "8093051ae6ea4b09"
  },
  {
   "cell_type": "code",
   "execution_count": 15,
   "outputs": [
    {
     "data": {
      "text/plain": "'He was borne into Briony Lodge 145a'"
     },
     "execution_count": 15,
     "metadata": {},
     "output_type": "execute_result"
    }
   ],
   "source": [
    "# Об'єднаємо список у рядок\n",
    "new_text = ' '.join(words)\n",
    "new_text"
   ],
   "metadata": {
    "collapsed": false,
    "ExecuteTime": {
     "end_time": "2024-02-22T11:10:56.067732300Z",
     "start_time": "2024-02-22T11:10:56.016250800Z"
    }
   },
   "id": "fd3f7a0d8a016dc"
  },
  {
   "cell_type": "code",
   "execution_count": 16,
   "outputs": [
    {
     "data": {
      "text/plain": "'She was borne into Briony Lodge 145a'"
     },
     "execution_count": 16,
     "metadata": {},
     "output_type": "execute_result"
    }
   ],
   "source": [
    "# Замінимо елемент рядка\n",
    "new_text = new_text.replace('He', 'She')\n",
    "new_text"
   ],
   "metadata": {
    "collapsed": false,
    "ExecuteTime": {
     "end_time": "2024-02-22T11:10:56.070733600Z",
     "start_time": "2024-02-22T11:10:56.032597800Z"
    }
   },
   "id": "fdba1811d6213c7a"
  },
  {
   "cell_type": "code",
   "execution_count": 17,
   "outputs": [
    {
     "data": {
      "text/plain": "False"
     },
     "execution_count": 17,
     "metadata": {},
     "output_type": "execute_result"
    }
   ],
   "source": [
    "# Перевіримо чи починається рядок з 'He'\n",
    "new_text.startswith('He')"
   ],
   "metadata": {
    "collapsed": false,
    "ExecuteTime": {
     "end_time": "2024-02-22T11:10:56.117971300Z",
     "start_time": "2024-02-22T11:10:56.073570700Z"
    }
   },
   "id": "a7a3ab41c1f538f1"
  },
  {
   "cell_type": "code",
   "execution_count": 18,
   "outputs": [
    {
     "data": {
      "text/plain": "True"
     },
     "execution_count": 18,
     "metadata": {},
     "output_type": "execute_result"
    }
   ],
   "source": [
    "# Перевіримо чи закінчується рядок на 'a145'\n",
    "new_text.endswith('145a')"
   ],
   "metadata": {
    "collapsed": false,
    "ExecuteTime": {
     "end_time": "2024-02-22T11:10:56.185288700Z",
     "start_time": "2024-02-22T11:10:56.118972500Z"
    }
   },
   "id": "807b7520c12a13f1"
  },
  {
   "cell_type": "markdown",
   "source": [
    " Знайти всі номери телефонів та замінити у тексті будь-яким символом всі цифри номерів телефонів, крім перших двох."
   ],
   "metadata": {
    "collapsed": false
   },
   "id": "a22b36af28aa549"
  },
  {
   "cell_type": "code",
   "execution_count": 19,
   "outputs": [
    {
     "data": {
      "text/plain": "'Slowly and solemnly he was borne into Briony LODgE 145a and laid out in the\\nprincipal room, while I (094)-44-33 still observed the proceedings from my post\\nby the window 12/15/1892.    The lamps had been lit, but the blinds had not been\\ndrawn, so that I could see Holmes sh_holmes221@mail.uk as he lay upon the couch.... I do not\\nknow whether he was seized with compunction at that moment for the part\\nhe was playing, but I know that I never felt more heartily ashamed of\\nmyself in my life 34-34-32 than when I saw the beautiful creature against whom\\nI wston23@mymail.com was conspiring, or the grace and kindliness with which she waited\\nupon the injured man. And yet    it would be the blackest treachery to 1895-11-17\\nHolmes to draw back now from the part which he had intrusted to me AveNUe 123.\\nI hardened my heart Wtason Street 45b, and took the smoke-rocket from under my ulster.\\nAfter all,, 344-21-01 I thought, we are not injuring her. We are but preventing\\nher from injuring another adlerrr@mail.com.'"
     },
     "execution_count": 19,
     "metadata": {},
     "output_type": "execute_result"
    }
   ],
   "source": [
    "text"
   ],
   "metadata": {
    "collapsed": false,
    "ExecuteTime": {
     "end_time": "2024-02-22T11:10:56.200811600Z",
     "start_time": "2024-02-22T11:10:56.176507900Z"
    }
   },
   "id": "71407ccfa706ce4f"
  },
  {
   "cell_type": "code",
   "execution_count": 20,
   "id": "32068de32b4affe",
   "metadata": {
    "collapsed": false,
    "ExecuteTime": {
     "end_time": "2024-02-22T11:10:56.266791800Z",
     "start_time": "2024-02-22T11:10:56.203813700Z"
    }
   },
   "outputs": [
    {
     "name": "stdout",
     "output_type": "stream",
     "text": [
      "['(094)-44-33', '344-21-01']\n"
     ]
    }
   ],
   "source": [
    "# Пошук номерів телефонів\n",
    "import re\n",
    "\n",
    "phone_numbers = re.findall('\\s([(]?\\d{3}[)]?-\\d{2}-\\d{2})\\s', text)\n",
    "\n",
    "print(phone_numbers)"
   ]
  },
  {
   "cell_type": "code",
   "execution_count": 21,
   "id": "454c78bb253b1ab6",
   "metadata": {
    "collapsed": false,
    "ExecuteTime": {
     "end_time": "2024-02-22T11:10:56.267787200Z",
     "start_time": "2024-02-22T11:10:56.213486200Z"
    }
   },
   "outputs": [
    {
     "data": {
      "text/plain": "'Slowly and solemnly he was borne into Briony LODgE 145a and laid out in the\\nprincipal room, while I (09*)-**-** still observed the proceedings from my post\\nby the window 12/15/1892.    The lamps had been lit, but the blinds had not been\\ndrawn, so that I could see Holmes sh_holmes221@mail.uk as he lay upon the couch.... I do not\\nknow whether he was seized with compunction at that moment for the part\\nhe was playing, but I know that I never felt more heartily ashamed of\\nmyself in my life 34-34-32 than when I saw the beautiful creature against whom\\nI wston23@mymail.com was conspiring, or the grace and kindliness with which she waited\\nupon the injured man. And yet    it would be the blackest treachery to 1895-11-17\\nHolmes to draw back now from the part which he had intrusted to me AveNUe 123.\\nI hardened my heart Wtason Street 45b, and took the smoke-rocket from under my ulster.\\nAfter all,, 34*-**-** I thought, we are not injuring her. We are but preventing\\nher from injuring another adlerrr@mail.com.'"
     },
     "execution_count": 21,
     "metadata": {},
     "output_type": "execute_result"
    }
   ],
   "source": [
    "# Заміна символом '*' всіх цифр номерів телефонів, крім перших двох.\n",
    "\n",
    "def replace_digits(match) -> str:\n",
    "    replaced_part = re.sub(r'\\d', '*', match.group(2))\n",
    "    return match.group(1) + replaced_part\n",
    "\n",
    "re.sub(r'(\\s[(]?\\d{2})(\\d[)]?-\\d{2}-\\d{2}\\s)', replace_digits, text)"
   ]
  },
  {
   "cell_type": "markdown",
   "id": "df1219b4aa158186",
   "metadata": {
    "collapsed": false
   },
   "source": []
  }
 ],
 "metadata": {
  "kernelspec": {
   "display_name": "Python 3 (ipykernel)",
   "language": "python",
   "name": "python3"
  },
  "language_info": {
   "codemirror_mode": {
    "name": "ipython",
    "version": 3
   },
   "file_extension": ".py",
   "mimetype": "text/x-python",
   "name": "python",
   "nbconvert_exporter": "python",
   "pygments_lexer": "ipython3",
   "version": "3.11.6"
  }
 },
 "nbformat": 4,
 "nbformat_minor": 5
}
