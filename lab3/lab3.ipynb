{
 "cells": [
  {
   "cell_type": "markdown",
   "source": [
    "## Лабораторна робота 3"
   ],
   "metadata": {
    "collapsed": false
   },
   "id": "a58d83307d96b78b"
  },
  {
   "cell_type": "markdown",
   "source": [
    "Зчитати файл doc11. Вважати кожен рядок окремим документом корпусу. Виконати попередню обробку корпусу.\n",
    "\n",
    "1) Представити корпус як модель «Сумка слів». Вивести вектор для слова MARINER.\n",
    "2) Представити корпус як модель TF-IDF. Спробувати кластеризувати документи за допомогою ієрархічної агломераційної кластеризації.\n",
    "3) Представити корпус як модель Word2Vec. Знайти подібні слова до слів mobile, Athens."
   ],
   "metadata": {
    "collapsed": false
   },
   "id": "e03c453415cb34ab"
  },
  {
   "cell_type": "markdown",
   "source": [
    "Зчитування файлу"
   ],
   "metadata": {
    "collapsed": false
   },
   "id": "32418cea02462ee4"
  },
  {
   "cell_type": "code",
   "execution_count": 2,
   "outputs": [],
   "source": [
    "with open('doc11.txt') as f:\n",
    "    text = f.read()"
   ],
   "metadata": {
    "collapsed": false,
    "ExecuteTime": {
     "end_time": "2024-03-21T11:08:46.381048100Z",
     "start_time": "2024-03-21T11:08:46.324685100Z"
    }
   },
   "id": "a2316122b48001a8"
  },
  {
   "cell_type": "code",
   "execution_count": 3,
   "outputs": [
    {
     "data": {
      "text/plain": "'MARINER 6 and 7 were sent to Mars in 1969 and expanded upon the work done by MARINER 4 four years earlier.\\nBack under the spotlight of public scrutiny she will attempt to erase the double disappointment of the Athens Olympics.\\nMARINER 8 ended up in the Atlantic Ocean in 1971 when the rocket launcher autopilot failed.\\nMore than 50 million people own a mobile in the UK, but mobile operators are keen to encourage people to move onto more sophisticated handsets that can do more.\\nMARINER 4, the sister probe to MARINER 3, did reach Mars in 1965.\\nA further recent survey said that only 4% of mobile owners were thinking of upgrading to 3G phones.\\nRadcliffe concedes she will probably learn a lot from her bad experiences in Athens in time.'"
     },
     "execution_count": 3,
     "metadata": {},
     "output_type": "execute_result"
    }
   ],
   "source": [
    "text"
   ],
   "metadata": {
    "collapsed": false,
    "ExecuteTime": {
     "end_time": "2024-03-21T11:08:46.400507800Z",
     "start_time": "2024-03-21T11:08:46.382053900Z"
    }
   },
   "id": "4d32b2a4123549e0"
  },
  {
   "cell_type": "markdown",
   "source": [
    "Попередня обробка корпусу"
   ],
   "metadata": {
    "collapsed": false
   },
   "id": "ca6a2ce70e098b10"
  },
  {
   "cell_type": "code",
   "execution_count": 4,
   "outputs": [],
   "source": [
    "import re\n",
    "\n",
    "\n",
    "def preprocess_text(document):\n",
    "    \"\"\"Функція для очищення тексту.\"\"\"\n",
    "    text = document.lower()\n",
    "    text = re.sub(r'[^a-zA-Z0-9\\s]', '', text)\n",
    "    return text\n",
    "\n",
    "# Розділення тексту на окремі документи (рядки)\n",
    "documents = text.split('\\n')\n",
    "\n",
    "# Попередня обробка кожного документу\n",
    "documents = [preprocess_text(doc) for doc in documents]"
   ],
   "metadata": {
    "collapsed": false,
    "ExecuteTime": {
     "end_time": "2024-03-21T11:08:46.401507500Z",
     "start_time": "2024-03-21T11:08:46.393502200Z"
    }
   },
   "id": "c66c8e39a27fe3a3"
  },
  {
   "cell_type": "code",
   "execution_count": 5,
   "outputs": [
    {
     "name": "stdout",
     "output_type": "stream",
     "text": [
      "Document count: 7\n",
      "\n",
      "Document 1: mariner 6 and 7 were sent to mars in 1969 and expanded upon the work done by mariner 4 four years earlier\n",
      "\n",
      "Document 2: back under the spotlight of public scrutiny she will attempt to erase the double disappointment of the athens olympics\n",
      "\n",
      "Document 3: mariner 8 ended up in the atlantic ocean in 1971 when the rocket launcher autopilot failed\n",
      "\n",
      "Document 4: more than 50 million people own a mobile in the uk but mobile operators are keen to encourage people to move onto more sophisticated handsets that can do more\n",
      "\n",
      "Document 5: mariner 4 the sister probe to mariner 3 did reach mars in 1965\n",
      "\n",
      "Document 6: a further recent survey said that only 4 of mobile owners were thinking of upgrading to 3g phones\n",
      "\n",
      "Document 7: radcliffe concedes she will probably learn a lot from her bad experiences in athens in time\n"
     ]
    }
   ],
   "source": [
    "# Виведення кількості документів\n",
    "print(f\"Document count: {len(documents)}\\n\")\n",
    "\n",
    "# Виведення документів\n",
    "for i, doc in enumerate(documents, start=1):\n",
    "    print(f\"Document {i}: {doc}\\n\")"
   ],
   "metadata": {
    "collapsed": false,
    "ExecuteTime": {
     "end_time": "2024-03-21T11:08:46.435901500Z",
     "start_time": "2024-03-21T11:08:46.404508Z"
    }
   },
   "id": "ee4e47634a556989"
  },
  {
   "cell_type": "markdown",
   "source": [
    "1) Представити корпус як модель «Сумка слів». Вивести вектор для слова MARINER."
   ],
   "metadata": {
    "collapsed": false
   },
   "id": "3e1e1fa024122b77"
  },
  {
   "cell_type": "code",
   "execution_count": 6,
   "outputs": [
    {
     "name": "stdout",
     "output_type": "stream",
     "text": [
      "  (0, 39)\t2\n",
      "  (0, 5)\t2\n",
      "  (0, 81)\t1\n",
      "  (0, 64)\t1\n",
      "  (0, 75)\t1\n",
      "  (0, 40)\t1\n",
      "  (0, 34)\t1\n",
      "  (0, 1)\t1\n",
      "  (0, 26)\t1\n",
      "  (0, 80)\t1\n",
      "  (0, 72)\t1\n",
      "  (0, 84)\t1\n",
      "  (0, 20)\t1\n",
      "  (0, 14)\t1\n",
      "  (0, 29)\t1\n",
      "  (0, 85)\t1\n",
      "  (0, 22)\t1\n",
      "  (1, 75)\t1\n",
      "  (1, 72)\t3\n",
      "  (1, 11)\t1\n",
      "  (1, 77)\t1\n",
      "  (1, 68)\t1\n",
      "  (1, 46)\t2\n",
      "  (1, 57)\t1\n",
      "  (1, 63)\t1\n",
      "  :\t:\n",
      "  (5, 71)\t1\n",
      "  (5, 31)\t1\n",
      "  (5, 60)\t1\n",
      "  (5, 69)\t1\n",
      "  (5, 62)\t1\n",
      "  (5, 48)\t1\n",
      "  (5, 52)\t1\n",
      "  (5, 73)\t1\n",
      "  (5, 79)\t1\n",
      "  (5, 3)\t1\n",
      "  (5, 54)\t1\n",
      "  (6, 34)\t2\n",
      "  (6, 65)\t1\n",
      "  (6, 83)\t1\n",
      "  (6, 7)\t1\n",
      "  (6, 58)\t1\n",
      "  (6, 16)\t1\n",
      "  (6, 55)\t1\n",
      "  (6, 37)\t1\n",
      "  (6, 38)\t1\n",
      "  (6, 30)\t1\n",
      "  (6, 33)\t1\n",
      "  (6, 12)\t1\n",
      "  (6, 27)\t1\n",
      "  (6, 74)\t1\n"
     ]
    }
   ],
   "source": [
    "from sklearn.feature_extraction.text import CountVectorizer\n",
    "\n",
    "# Створення моделі \"Сумки слів\"\n",
    "vectorizer = CountVectorizer()\n",
    "\n",
    "# Побудова матриці ознак\n",
    "matrix = vectorizer.fit_transform(documents)\n",
    "print(matrix)"
   ],
   "metadata": {
    "collapsed": false,
    "ExecuteTime": {
     "end_time": "2024-03-21T11:08:46.571951800Z",
     "start_time": "2024-03-21T11:08:46.411901700Z"
    }
   },
   "id": "be1fa9dc330d99c1"
  },
  {
   "cell_type": "code",
   "execution_count": 7,
   "outputs": [
    {
     "data": {
      "text/plain": "39"
     },
     "execution_count": 7,
     "metadata": {},
     "output_type": "execute_result"
    }
   ],
   "source": [
    "# Отримання індексу слова MARINER\n",
    "mariner_index = vectorizer.vocabulary_.get('mariner')\n",
    "mariner_index"
   ],
   "metadata": {
    "collapsed": false,
    "ExecuteTime": {
     "end_time": "2024-03-21T11:08:46.587364800Z",
     "start_time": "2024-03-21T11:08:46.572952600Z"
    }
   },
   "id": "33984c32e84547a8"
  },
  {
   "cell_type": "code",
   "execution_count": 8,
   "outputs": [
    {
     "name": "stdout",
     "output_type": "stream",
     "text": [
      "Bag of Words vector for the word 'MARINER':\n",
      "[[2]\n",
      " [0]\n",
      " [1]\n",
      " [0]\n",
      " [2]\n",
      " [0]\n",
      " [0]]\n"
     ]
    }
   ],
   "source": [
    "# Отримання вектору\n",
    "mariner_vector = matrix[:, mariner_index].toarray()\n",
    "\n",
    "# Виведення вектору для слова MARINER\n",
    "print(f\"Bag of Words vector for the word 'MARINER':\\n{mariner_vector}\\n\")"
   ],
   "metadata": {
    "collapsed": false,
    "ExecuteTime": {
     "end_time": "2024-03-21T11:08:46.588364500Z",
     "start_time": "2024-03-21T11:08:46.579714200Z"
    }
   },
   "id": "75f0ceba4dc0d29d"
  },
  {
   "cell_type": "markdown",
   "source": [
    "2) Представити корпус як модель TF-IDF. Спробувати кластеризувати документи за допомогою ієрархічної агломераційної кластеризації."
   ],
   "metadata": {
    "collapsed": false
   },
   "id": "e31fe65aff8035e1"
  },
  {
   "cell_type": "code",
   "execution_count": 9,
   "outputs": [
    {
     "name": "stdout",
     "output_type": "stream",
     "text": [
      "Shape of TF-IDF matrix: (7, 86)\n"
     ]
    }
   ],
   "source": [
    "from sklearn.feature_extraction.text import TfidfVectorizer\n",
    "\n",
    "# Створення моделі TF-IDF (term frequency * inverse document frequency) \n",
    "tfidf_vectorizer = TfidfVectorizer()\n",
    "\n",
    "# Побудова матриці TF-IDF\n",
    "tfidf_matrix = tfidf_vectorizer.fit_transform(documents)\n",
    "\n",
    "# Виведення розміру матриці\n",
    "print(\"Shape of TF-IDF matrix:\", tfidf_matrix.shape)"
   ],
   "metadata": {
    "collapsed": false,
    "ExecuteTime": {
     "end_time": "2024-03-21T11:08:46.650021200Z",
     "start_time": "2024-03-21T11:08:46.588364500Z"
    }
   },
   "id": "409fc578c3ba9143"
  },
  {
   "cell_type": "code",
   "execution_count": 10,
   "outputs": [
    {
     "name": "stdout",
     "output_type": "stream",
     "text": [
      "  (0, 22)\t0.23398377688825858\n",
      "  (0, 85)\t0.23398377688825858\n",
      "  (0, 29)\t0.23398377688825858\n",
      "  (0, 14)\t0.23398377688825858\n",
      "  (0, 20)\t0.23398377688825858\n",
      "  (0, 84)\t0.23398377688825858\n",
      "  (0, 72)\t0.1262613362595254\n",
      "  (0, 80)\t0.23398377688825858\n",
      "  (0, 26)\t0.23398377688825858\n",
      "  (0, 1)\t0.23398377688825858\n",
      "  (0, 34)\t0.1262613362595254\n",
      "  (0, 40)\t0.19422662917952796\n",
      "  (0, 75)\t0.1262613362595254\n",
      "  (0, 64)\t0.23398377688825858\n",
      "  (0, 81)\t0.19422662917952796\n",
      "  (0, 5)\t0.46796755377651716\n",
      "  (0, 39)\t0.33203696793651205\n",
      "  (1, 47)\t0.2374556839725304\n",
      "  (1, 7)\t0.19710861022441328\n",
      "  (1, 18)\t0.2374556839725304\n",
      "  (1, 21)\t0.2374556839725304\n",
      "  (1, 25)\t0.2374556839725304\n",
      "  (1, 9)\t0.2374556839725304\n",
      "  (1, 83)\t0.19710861022441328\n",
      "  (1, 65)\t0.19710861022441328\n",
      "  :\t:\n",
      "  (5, 52)\t0.257219180133628\n",
      "  (5, 48)\t0.257219180133628\n",
      "  (5, 62)\t0.257219180133628\n",
      "  (5, 69)\t0.257219180133628\n",
      "  (5, 60)\t0.257219180133628\n",
      "  (5, 31)\t0.257219180133628\n",
      "  (5, 71)\t0.2135140093132813\n",
      "  (5, 42)\t0.2135140093132813\n",
      "  (5, 46)\t0.4270280186265626\n",
      "  (5, 75)\t0.1387995263054545\n",
      "  (5, 81)\t0.2135140093132813\n",
      "  (6, 74)\t0.2749092880883323\n",
      "  (6, 27)\t0.2749092880883323\n",
      "  (6, 12)\t0.2749092880883323\n",
      "  (6, 33)\t0.2749092880883323\n",
      "  (6, 30)\t0.2749092880883323\n",
      "  (6, 38)\t0.2749092880883323\n",
      "  (6, 37)\t0.2749092880883323\n",
      "  (6, 55)\t0.2749092880883323\n",
      "  (6, 16)\t0.2749092880883323\n",
      "  (6, 58)\t0.2749092880883323\n",
      "  (6, 7)\t0.22819831812972124\n",
      "  (6, 83)\t0.22819831812972124\n",
      "  (6, 65)\t0.22819831812972124\n",
      "  (6, 34)\t0.2966907751109941\n"
     ]
    }
   ],
   "source": [
    "# Виведення матриці\n",
    "print(tfidf_matrix)"
   ],
   "metadata": {
    "collapsed": false,
    "ExecuteTime": {
     "end_time": "2024-03-21T11:08:46.652024300Z",
     "start_time": "2024-03-21T11:08:46.622466200Z"
    }
   },
   "id": "5a54794688196426"
  },
  {
   "cell_type": "code",
   "execution_count": 11,
   "outputs": [
    {
     "data": {
      "text/plain": "<Figure size 640x480 with 1 Axes>",
      "image/png": "[encoded data removed]"
     },
     "metadata": {},
     "output_type": "display_data"
    }
   ],
   "source": [
    "import matplotlib.pyplot as plt\n",
    "import scipy.cluster.hierarchy as sch\n",
    "\n",
    "\n",
    "# Візуалізація дерева кластеризації\n",
    "dendrogram = sch.dendrogram(sch.linkage(tfidf_matrix.toarray(), method='ward'))\n",
    "plt.title('Dendrogram')\n",
    "plt.xlabel('Documents')\n",
    "plt.ylabel('Euclidean distances')\n",
    "plt.show()"
   ],
   "metadata": {
    "collapsed": false,
    "ExecuteTime": {
     "end_time": "2024-03-21T11:08:50.724449300Z",
     "start_time": "2024-03-21T11:08:46.629022800Z"
    }
   },
   "id": "ac149e0f08e622a3"
  },
  {
   "cell_type": "code",
   "execution_count": 12,
   "outputs": [
    {
     "name": "stdout",
     "output_type": "stream",
     "text": [
      "Cluster labels: [1 0 1 0 1 0 2]\n"
     ]
    }
   ],
   "source": [
    "from sklearn.cluster import AgglomerativeClustering\n",
    "\n",
    "\n",
    "# Застосування ієрархічної агломеративної кластеризації\n",
    "agg_cluster = AgglomerativeClustering(n_clusters=3, metric='euclidean', linkage='ward')\n",
    "cluster_labels = agg_cluster.fit_predict(tfidf_matrix.toarray())\n",
    "\n",
    "# Виведення міток кластерів\n",
    "print(\"Cluster labels:\", cluster_labels)"
   ],
   "metadata": {
    "collapsed": false,
    "ExecuteTime": {
     "end_time": "2024-03-21T11:08:52.619652800Z",
     "start_time": "2024-03-21T11:08:50.716451Z"
    }
   },
   "id": "3a47bb3564cffd3e"
  },
  {
   "cell_type": "markdown",
   "source": [
    "3) Представити корпус як модель Word2Vec. Знайти подібні слова до слів mobile, Athens."
   ],
   "metadata": {
    "collapsed": false
   },
   "id": "5dad682c6e34672b"
  },
  {
   "cell_type": "code",
   "execution_count": 13,
   "outputs": [
    {
     "data": {
      "text/plain": "[['mariner',\n  'and',\n  'were',\n  'sent',\n  'to',\n  'mars',\n  'in',\n  'and',\n  'expanded',\n  'upon',\n  'the',\n  'work',\n  'done',\n  'by',\n  'mariner',\n  'four',\n  'years',\n  'earlier'],\n ['back',\n  'under',\n  'the',\n  'spotlight',\n  'of',\n  'public',\n  'scrutiny',\n  'she',\n  'will',\n  'attempt',\n  'to',\n  'erase',\n  'the',\n  'double',\n  'disappointment',\n  'of',\n  'the',\n  'athens',\n  'olympics'],\n ['mariner',\n  'ended',\n  'up',\n  'in',\n  'the',\n  'atlantic',\n  'ocean',\n  'in',\n  'when',\n  'the',\n  'rocket',\n  'launcher',\n  'autopilot',\n  'failed'],\n ['more',\n  'than',\n  'million',\n  'people',\n  'own',\n  'mobile',\n  'in',\n  'the',\n  'uk',\n  'but',\n  'mobile',\n  'operators',\n  'are',\n  'keen',\n  'to',\n  'encourage',\n  'people',\n  'to',\n  'move',\n  'onto',\n  'more',\n  'sophisticated',\n  'handsets',\n  'that',\n  'can',\n  'do',\n  'more'],\n ['mariner',\n  'the',\n  'sister',\n  'probe',\n  'to',\n  'mariner',\n  'did',\n  'reach',\n  'mars',\n  'in'],\n ['further',\n  'recent',\n  'survey',\n  'said',\n  'that',\n  'only',\n  'of',\n  'mobile',\n  'owners',\n  'were',\n  'thinking',\n  'of',\n  'upgrading',\n  'to',\n  'phones'],\n ['radcliffe',\n  'concedes',\n  'she',\n  'will',\n  'probably',\n  'learn',\n  'lot',\n  'from',\n  'her',\n  'bad',\n  'experiences',\n  'in',\n  'athens',\n  'in',\n  'time']]"
     },
     "execution_count": 13,
     "metadata": {},
     "output_type": "execute_result"
    }
   ],
   "source": [
    "from gensim.utils import simple_preprocess\n",
    "\n",
    "# Розділення тексту на слова\n",
    "tokenized_corpus = [simple_preprocess(doc) for doc in documents]\n",
    "tokenized_corpus"
   ],
   "metadata": {
    "collapsed": false,
    "ExecuteTime": {
     "end_time": "2024-03-21T11:08:52.620651400Z",
     "start_time": "2024-03-21T11:08:52.613569200Z"
    }
   },
   "id": "1067a5f1d9669fb1"
  },
  {
   "cell_type": "code",
   "execution_count": 14,
   "outputs": [
    {
     "name": "stdout",
     "output_type": "stream",
     "text": [
      "Words similar to 'mobile': [('move', 0.30914372205734253), ('but', 0.2806518077850342), ('do', 0.2358178049325943), ('further', 0.19169440865516663), ('uk', 0.1807056963443756)]\n"
     ]
    }
   ],
   "source": [
    "from gensim.models import Word2Vec\n",
    "\n",
    "\n",
    "# Побудова моделі Word2Vec\n",
    "word2vec_model = Word2Vec(tokenized_corpus, vector_size=100, window=5, min_count=1, sg=0)\n",
    "\n",
    "# Знаходження подібних слів до слова \"mobile\"\n",
    "similar_mobile = word2vec_model.wv.most_similar(\"mobile\", topn=5)\n",
    "print(\"Words similar to 'mobile':\", similar_mobile)"
   ],
   "metadata": {
    "collapsed": false,
    "ExecuteTime": {
     "end_time": "2024-03-21T11:08:52.821062800Z",
     "start_time": "2024-03-21T11:08:52.619652800Z"
    }
   },
   "id": "700ef20ec3fa6d66"
  },
  {
   "cell_type": "code",
   "execution_count": 15,
   "outputs": [
    {
     "name": "stdout",
     "output_type": "stream",
     "text": [
      "Words similar to 'Athens': [('but', 0.3151249587535858), ('upgrading', 0.31394505500793457), ('erase', 0.18276050686836243), ('encourage', 0.18255026638507843), ('to', 0.1740032136440277)]\n"
     ]
    }
   ],
   "source": [
    "# Знайдення подібних слів до слова \"Athens\"\n",
    "similar_athens = word2vec_model.wv.most_similar(\"athens\", topn=5)\n",
    "print(\"Words similar to 'Athens':\", similar_athens)"
   ],
   "metadata": {
    "collapsed": false,
    "ExecuteTime": {
     "end_time": "2024-03-21T11:08:52.831949500Z",
     "start_time": "2024-03-21T11:08:52.819062200Z"
    }
   },
   "id": "6d8b90dc9a93c3fa"
  }
 ],
 "metadata": {
  "kernelspec": {
   "display_name": "Python 3",
   "language": "python",
   "name": "python3"
  },
  "language_info": {
   "codemirror_mode": {
    "name": "ipython",
    "version": 2
   },
   "file_extension": ".py",
   "mimetype": "text/x-python",
   "name": "python",
   "nbconvert_exporter": "python",
   "pygments_lexer": "ipython2",
   "version": "2.7.6"
  }
 },
 "nbformat": 4,
 "nbformat_minor": 5
}
