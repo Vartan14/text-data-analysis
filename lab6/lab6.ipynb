{
 "cells": [
  {
   "metadata": {},
   "cell_type": "markdown",
   "source": "## Лабораторна робота 6",
   "id": "4fee5038ac16918"
  },
  {
   "metadata": {},
   "cell_type": "markdown",
   "source": [
    "Створити програму, яка:\n",
    "1. а) Зчитує заданий набір даних, виконує попередню обробку, розбиває\n",
    "дані на навчальні на тестові. Виконує аналіз настроїв за допомогою\n",
    "наївного баєсівського класифікатора. Виводить матрицю невідповідностей та точність моделі.\n",
    "б) Використовує один з готових лексиконів, наприклад Textblob, для\n",
    "аналізу оцінки настроїв. Також розраховує матрицю невідповідностей, та\n",
    "точність моделі.\n",
    "в) Обирає три випадкові записи та виводить результати оцінки їх настрою\n",
    "за пунктами а) і б).\n",
    "\n",
    "2. Виконує завдання відповідно до варіанту засобами бібліотеки spaCy.\n",
    "а) Знайти та вивести стоп-слова, які присутні у тексті. б) Знайти та вивести всі іменники, які присутні у тексті. в) Знайти та вивести числа і організації, які присутні у тексті.\n"
   ],
   "id": "3ad1a89f913146b8"
  },
  {
   "metadata": {},
   "cell_type": "markdown",
   "source": "##### 1. Аналіз настроїв за допомогою наївного баєсівського класифікатора",
   "id": "72d1940acacd7536"
  },
  {
   "metadata": {},
   "cell_type": "markdown",
   "source": "а) Аналіз настроїв за допомогою наївного баєсівського класифікатора",
   "id": "bc5028f0a316ea8e"
  },
  {
   "metadata": {
    "ExecuteTime": {
     "end_time": "2024-05-24T15:22:18.008725Z",
     "start_time": "2024-05-24T15:22:06.250199Z"
    }
   },
   "cell_type": "code",
   "source": [
    "import pandas as pd\n",
    "from matplotlib import pyplot as plt\n",
    "import seaborn as sns\n",
    "from sklearn.model_selection import train_test_split\n",
    "from sklearn.naive_bayes import MultinomialNB\n",
    "from sklearn.feature_extraction.text import CountVectorizer\n",
    "from sklearn.metrics import accuracy_score, confusion_matrix\n",
    "from textblob import TextBlob"
   ],
   "id": "a3e19591429b3a2e",
   "outputs": [],
   "execution_count": 1
  },
  {
   "metadata": {
    "ExecuteTime": {
     "end_time": "2024-05-24T15:22:19.045018Z",
     "start_time": "2024-05-24T15:22:18.009729Z"
    }
   },
   "cell_type": "code",
   "source": [
    " # Зчитування даних з файлу\n",
    "data = pd.read_csv(\"twitter1.csv\", header=None, names=[\"ID\", \"App\", \"Sentiment\", \"Text\"])"
   ],
   "id": "3fec8d42d41818d0",
   "outputs": [],
   "execution_count": 2
  },
  {
   "metadata": {
    "ExecuteTime": {
     "end_time": "2024-05-24T15:22:19.204277Z",
     "start_time": "2024-05-24T15:22:19.046023Z"
    }
   },
   "cell_type": "code",
   "source": [
    "# Дослідимо дані\n",
    "data.head()"
   ],
   "id": "66ef7ce9fae5d489",
   "outputs": [
    {
     "data": {
      "text/plain": [
       "     ID          App Sentiment  \\\n",
       "0  2401  Borderlands  Positive   \n",
       "1  2401  Borderlands  Positive   \n",
       "2  2401  Borderlands  Positive   \n",
       "3  2401  Borderlands  Positive   \n",
       "4  2401  Borderlands  Positive   \n",
       "\n",
       "                                                Text  \n",
       "0  im getting on borderlands and i will murder yo...  \n",
       "1  I am coming to the borders and I will kill you...  \n",
       "2  im getting on borderlands and i will kill you ...  \n",
       "3  im coming on borderlands and i will murder you...  \n",
       "4  im getting on borderlands 2 and i will murder ...  "
      ],
      "text/html": [
       "<div>\n",
       "<style scoped>\n",
       "    .dataframe tbody tr th:only-of-type {\n",
       "        vertical-align: middle;\n",
       "    }\n",
       "\n",
       "    .dataframe tbody tr th {\n",
       "        vertical-align: top;\n",
       "    }\n",
       "\n",
       "    .dataframe thead th {\n",
       "        text-align: right;\n",
       "    }\n",
       "</style>\n",
       "<table border=\"1\" class=\"dataframe\">\n",
       "  <thead>\n",
       "    <tr style=\"text-align: right;\">\n",
       "      <th></th>\n",
       "      <th>ID</th>\n",
       "      <th>App</th>\n",
       "      <th>Sentiment</th>\n",
       "      <th>Text</th>\n",
       "    </tr>\n",
       "  </thead>\n",
       "  <tbody>\n",
       "    <tr>\n",
       "      <th>0</th>\n",
       "      <td>2401</td>\n",
       "      <td>Borderlands</td>\n",
       "      <td>Positive</td>\n",
       "      <td>im getting on borderlands and i will murder yo...</td>\n",
       "    </tr>\n",
       "    <tr>\n",
       "      <th>1</th>\n",
       "      <td>2401</td>\n",
       "      <td>Borderlands</td>\n",
       "      <td>Positive</td>\n",
       "      <td>I am coming to the borders and I will kill you...</td>\n",
       "    </tr>\n",
       "    <tr>\n",
       "      <th>2</th>\n",
       "      <td>2401</td>\n",
       "      <td>Borderlands</td>\n",
       "      <td>Positive</td>\n",
       "      <td>im getting on borderlands and i will kill you ...</td>\n",
       "    </tr>\n",
       "    <tr>\n",
       "      <th>3</th>\n",
       "      <td>2401</td>\n",
       "      <td>Borderlands</td>\n",
       "      <td>Positive</td>\n",
       "      <td>im coming on borderlands and i will murder you...</td>\n",
       "    </tr>\n",
       "    <tr>\n",
       "      <th>4</th>\n",
       "      <td>2401</td>\n",
       "      <td>Borderlands</td>\n",
       "      <td>Positive</td>\n",
       "      <td>im getting on borderlands 2 and i will murder ...</td>\n",
       "    </tr>\n",
       "  </tbody>\n",
       "</table>\n",
       "</div>"
      ]
     },
     "execution_count": 3,
     "metadata": {},
     "output_type": "execute_result"
    }
   ],
   "execution_count": 3
  },
  {
   "metadata": {
    "ExecuteTime": {
     "end_time": "2024-05-24T15:22:19.215641Z",
     "start_time": "2024-05-24T15:22:19.205286Z"
    }
   },
   "cell_type": "code",
   "source": "data.tail()",
   "id": "3f946b9869c08fac",
   "outputs": [
    {
     "data": {
      "text/plain": [
       "         ID     App Sentiment  \\\n",
       "74677  9200  Nvidia  Positive   \n",
       "74678  9200  Nvidia  Positive   \n",
       "74679  9200  Nvidia  Positive   \n",
       "74680  9200  Nvidia  Positive   \n",
       "74681  9200  Nvidia  Positive   \n",
       "\n",
       "                                                    Text  \n",
       "74677  Just realized that the Windows partition of my...  \n",
       "74678  Just realized that my Mac window partition is ...  \n",
       "74679  Just realized the windows partition of my Mac ...  \n",
       "74680  Just realized between the windows partition of...  \n",
       "74681  Just like the windows partition of my Mac is l...  "
      ],
      "text/html": [
       "<div>\n",
       "<style scoped>\n",
       "    .dataframe tbody tr th:only-of-type {\n",
       "        vertical-align: middle;\n",
       "    }\n",
       "\n",
       "    .dataframe tbody tr th {\n",
       "        vertical-align: top;\n",
       "    }\n",
       "\n",
       "    .dataframe thead th {\n",
       "        text-align: right;\n",
       "    }\n",
       "</style>\n",
       "<table border=\"1\" class=\"dataframe\">\n",
       "  <thead>\n",
       "    <tr style=\"text-align: right;\">\n",
       "      <th></th>\n",
       "      <th>ID</th>\n",
       "      <th>App</th>\n",
       "      <th>Sentiment</th>\n",
       "      <th>Text</th>\n",
       "    </tr>\n",
       "  </thead>\n",
       "  <tbody>\n",
       "    <tr>\n",
       "      <th>74677</th>\n",
       "      <td>9200</td>\n",
       "      <td>Nvidia</td>\n",
       "      <td>Positive</td>\n",
       "      <td>Just realized that the Windows partition of my...</td>\n",
       "    </tr>\n",
       "    <tr>\n",
       "      <th>74678</th>\n",
       "      <td>9200</td>\n",
       "      <td>Nvidia</td>\n",
       "      <td>Positive</td>\n",
       "      <td>Just realized that my Mac window partition is ...</td>\n",
       "    </tr>\n",
       "    <tr>\n",
       "      <th>74679</th>\n",
       "      <td>9200</td>\n",
       "      <td>Nvidia</td>\n",
       "      <td>Positive</td>\n",
       "      <td>Just realized the windows partition of my Mac ...</td>\n",
       "    </tr>\n",
       "    <tr>\n",
       "      <th>74680</th>\n",
       "      <td>9200</td>\n",
       "      <td>Nvidia</td>\n",
       "      <td>Positive</td>\n",
       "      <td>Just realized between the windows partition of...</td>\n",
       "    </tr>\n",
       "    <tr>\n",
       "      <th>74681</th>\n",
       "      <td>9200</td>\n",
       "      <td>Nvidia</td>\n",
       "      <td>Positive</td>\n",
       "      <td>Just like the windows partition of my Mac is l...</td>\n",
       "    </tr>\n",
       "  </tbody>\n",
       "</table>\n",
       "</div>"
      ]
     },
     "execution_count": 4,
     "metadata": {},
     "output_type": "execute_result"
    }
   ],
   "execution_count": 4
  },
  {
   "metadata": {
    "ExecuteTime": {
     "end_time": "2024-05-24T15:22:19.262460Z",
     "start_time": "2024-05-24T15:22:19.217649Z"
    }
   },
   "cell_type": "code",
   "source": "data['Sentiment'].value_counts()",
   "id": "e3ad9f2673b6b1a8",
   "outputs": [
    {
     "data": {
      "text/plain": [
       "Sentiment\n",
       "Negative      22542\n",
       "Positive      20832\n",
       "Neutral       18318\n",
       "Irrelevant    12990\n",
       "Name: count, dtype: int64"
      ]
     },
     "execution_count": 5,
     "metadata": {},
     "output_type": "execute_result"
    }
   ],
   "execution_count": 5
  },
  {
   "metadata": {
    "ExecuteTime": {
     "end_time": "2024-05-24T15:22:19.273262Z",
     "start_time": "2024-05-24T15:22:19.263473Z"
    }
   },
   "cell_type": "code",
   "source": "data['App'].value_counts()",
   "id": "e312807c57fc56c2",
   "outputs": [
    {
     "data": {
      "text/plain": [
       "App\n",
       "TomClancysRainbowSix                 2400\n",
       "MaddenNFL                            2400\n",
       "Microsoft                            2400\n",
       "LeagueOfLegends                      2394\n",
       "CallOfDuty                           2394\n",
       "Verizon                              2382\n",
       "CallOfDutyBlackopsColdWar            2376\n",
       "ApexLegends                          2376\n",
       "Facebook                             2370\n",
       "WorldOfCraft                         2364\n",
       "Dota2                                2364\n",
       "NBA2K                                2352\n",
       "TomClancysGhostRecon                 2346\n",
       "Battlefield                          2346\n",
       "FIFA                                 2340\n",
       "Xbox(Xseries)                        2334\n",
       "Overwatch                            2334\n",
       "johnson&johnson                      2328\n",
       "Amazon                               2316\n",
       "PlayStation5(PS5)                    2310\n",
       "HomeDepot                            2310\n",
       "Cyberpunk2077                        2304\n",
       "CS-GO                                2304\n",
       "GrandTheftAuto(GTA)                  2304\n",
       "Hearthstone                          2298\n",
       "Nvidia                               2298\n",
       "Google                               2298\n",
       "Borderlands                          2286\n",
       "PlayerUnknownsBattlegrounds(PUBG)    2274\n",
       "Fortnite                             2274\n",
       "RedDeadRedemption(RDR)               2262\n",
       "AssassinsCreed                       2244\n",
       "Name: count, dtype: int64"
      ]
     },
     "execution_count": 6,
     "metadata": {},
     "output_type": "execute_result"
    }
   ],
   "execution_count": 6
  },
  {
   "metadata": {
    "ExecuteTime": {
     "end_time": "2024-05-24T15:22:19.471788Z",
     "start_time": "2024-05-24T15:22:19.276269Z"
    }
   },
   "cell_type": "code",
   "source": "data.info()",
   "id": "be0ad7c71b492d5c",
   "outputs": [
    {
     "name": "stdout",
     "output_type": "stream",
     "text": [
      "<class 'pandas.core.frame.DataFrame'>\n",
      "RangeIndex: 74682 entries, 0 to 74681\n",
      "Data columns (total 4 columns):\n",
      " #   Column     Non-Null Count  Dtype \n",
      "---  ------     --------------  ----- \n",
      " 0   ID         74682 non-null  int64 \n",
      " 1   App        74682 non-null  object\n",
      " 2   Sentiment  74682 non-null  object\n",
      " 3   Text       73996 non-null  object\n",
      "dtypes: int64(1), object(3)\n",
      "memory usage: 2.3+ MB\n"
     ]
    }
   ],
   "execution_count": 7
  },
  {
   "metadata": {
    "ExecuteTime": {
     "end_time": "2024-05-24T15:22:19.485131Z",
     "start_time": "2024-05-24T15:22:19.473796Z"
    }
   },
   "cell_type": "code",
   "source": "len(data[data['Text'].isna()])",
   "id": "82c6e8e2c7a45dc2",
   "outputs": [
    {
     "data": {
      "text/plain": [
       "686"
      ]
     },
     "execution_count": 8,
     "metadata": {},
     "output_type": "execute_result"
    }
   ],
   "execution_count": 8
  },
  {
   "metadata": {
    "ExecuteTime": {
     "end_time": "2024-05-24T15:22:19.503888Z",
     "start_time": "2024-05-24T15:22:19.486144Z"
    }
   },
   "cell_type": "code",
   "source": [
    "# Видалення рядків з NaN значеннями в стовпці Text\n",
    "data = data.dropna(subset=['Text'])"
   ],
   "id": "23e0cd64b24aa45a",
   "outputs": [],
   "execution_count": 9
  },
  {
   "metadata": {
    "ExecuteTime": {
     "end_time": "2024-05-24T15:22:19.524811Z",
     "start_time": "2024-05-24T15:22:19.504896Z"
    }
   },
   "cell_type": "code",
   "source": "data.info()",
   "id": "a88dd5cae5b347a0",
   "outputs": [
    {
     "name": "stdout",
     "output_type": "stream",
     "text": [
      "<class 'pandas.core.frame.DataFrame'>\n",
      "Index: 73996 entries, 0 to 74681\n",
      "Data columns (total 4 columns):\n",
      " #   Column     Non-Null Count  Dtype \n",
      "---  ------     --------------  ----- \n",
      " 0   ID         73996 non-null  int64 \n",
      " 1   App        73996 non-null  object\n",
      " 2   Sentiment  73996 non-null  object\n",
      " 3   Text       73996 non-null  object\n",
      "dtypes: int64(1), object(3)\n",
      "memory usage: 2.8+ MB\n"
     ]
    }
   ],
   "execution_count": 10
  },
  {
   "metadata": {
    "ExecuteTime": {
     "end_time": "2024-05-24T15:22:19.534323Z",
     "start_time": "2024-05-24T15:22:19.525817Z"
    }
   },
   "cell_type": "code",
   "source": "data.iloc[1000:1100]['Text']",
   "id": "b75d74b46b34c5dd",
   "outputs": [
    {
     "data": {
      "text/plain": [
       "1004    @ EpicGames @ 2K @ Steam Why add a crossplay f...\n",
       "1005    @EpicGames on @2K why add crossplay for @Steam...\n",
       "1006    @EpicGames 4 @2K @Steam why not add crossplay ...\n",
       "1007    made @EpicGames @2K why add crossplay for it 3...\n",
       "1008    Got to repaint another Nerf gun for the Tiny T...\n",
       "                              ...                        \n",
       "1099    Darth Filius scored 1 success in Borderlands3 ...\n",
       "1100    Dart Philus opened 1 achievement in Border3 an...\n",
       "1101    Darth Filius unlocked 1 achievement from Borde...\n",
       "1102    Darth The Filius unlocked 1 official achieveme...\n",
       "1103    Darth Filius with 1 achievement about 4 and in...\n",
       "Name: Text, Length: 100, dtype: object"
      ]
     },
     "execution_count": 11,
     "metadata": {},
     "output_type": "execute_result"
    }
   ],
   "execution_count": 11
  },
  {
   "metadata": {
    "ExecuteTime": {
     "end_time": "2024-05-24T15:22:19.770620Z",
     "start_time": "2024-05-24T15:22:19.536330Z"
    }
   },
   "cell_type": "code",
   "source": [
    "# Обробка даних \n",
    "# Видаляємо символи, що не є буквами\n",
    "data['Text'] = data['Text'].str.replace(\"[^a-zA-Z\\s']\", '', regex=True)\n",
    "\n",
    "# Приводимо все до нижнього регістру\n",
    "data['Text'] = data['Text'].str.lower()"
   ],
   "id": "69185ec539cb29d3",
   "outputs": [],
   "execution_count": 12
  },
  {
   "metadata": {
    "ExecuteTime": {
     "end_time": "2024-05-24T15:22:19.780204Z",
     "start_time": "2024-05-24T15:22:19.771626Z"
    }
   },
   "cell_type": "code",
   "source": "data.iloc[1000:1100]['Text']",
   "id": "e3b9474bc5efc3f7",
   "outputs": [
    {
     "data": {
      "text/plain": [
       "1004     epicgames  k  steam why add a crossplay for  ...\n",
       "1005    epicgames on k why add crossplay for steam  if...\n",
       "1006    epicgames  k steam why not add crossplay for b...\n",
       "1007    made epicgames k why add crossplay for it  if ...\n",
       "1008    got to repaint another nerf gun for the tiny t...\n",
       "                              ...                        \n",
       "1099    darth filius scored  success in borderlands an...\n",
       "1100    dart philus opened  achievement in border and ...\n",
       "1101    darth filius unlocked  achievement from border...\n",
       "1102    darth the filius unlocked  official achievemen...\n",
       "1103    darth filius with  achievement about  and incr...\n",
       "Name: Text, Length: 100, dtype: object"
      ]
     },
     "execution_count": 13,
     "metadata": {},
     "output_type": "execute_result"
    }
   ],
   "execution_count": 13
  },
  {
   "metadata": {
    "ExecuteTime": {
     "end_time": "2024-05-24T15:22:19.823887Z",
     "start_time": "2024-05-24T15:22:19.782211Z"
    }
   },
   "cell_type": "code",
   "source": [
    "# Розділення даних на навчальний та тестовий набори\n",
    "train_data, test_data = train_test_split(data, test_size=0.2, random_state=42)"
   ],
   "id": "7aabd59a367779c9",
   "outputs": [],
   "execution_count": 14
  },
  {
   "metadata": {
    "ExecuteTime": {
     "end_time": "2024-05-24T15:22:21.228381Z",
     "start_time": "2024-05-24T15:22:19.824893Z"
    }
   },
   "cell_type": "code",
   "source": [
    "# Підготовка даних для класифікатора. Побудова Bag of Words\n",
    "vectorizer = CountVectorizer()\n",
    "X_train = vectorizer.fit_transform(train_data['Text'])\n",
    "X_test = vectorizer.transform(test_data['Text'])"
   ],
   "id": "a45dfe1217680b77",
   "outputs": [],
   "execution_count": 15
  },
  {
   "metadata": {
    "ExecuteTime": {
     "end_time": "2024-05-24T15:22:21.832653Z",
     "start_time": "2024-05-24T15:22:21.229388Z"
    }
   },
   "cell_type": "code",
   "source": [
    "# Навчання моделі та передбачення на тестовому наборі\n",
    "nb_classifier = MultinomialNB()\n",
    "nb_classifier.fit(X_train, train_data['Sentiment'])\n",
    "nb_predictions = nb_classifier.predict(X_test)"
   ],
   "id": "ef42c73a59e0240e",
   "outputs": [],
   "execution_count": 16
  },
  {
   "metadata": {
    "ExecuteTime": {
     "end_time": "2024-05-24T15:22:21.841262Z",
     "start_time": "2024-05-24T15:22:21.832653Z"
    }
   },
   "cell_type": "code",
   "source": "test_data['Sentiment'].value_counts()",
   "id": "3cf039363ecf914e",
   "outputs": [
    {
     "data": {
      "text/plain": [
       "Sentiment\n",
       "Negative      4380\n",
       "Positive      4119\n",
       "Neutral       3605\n",
       "Irrelevant    2696\n",
       "Name: count, dtype: int64"
      ]
     },
     "execution_count": 17,
     "metadata": {},
     "output_type": "execute_result"
    }
   ],
   "execution_count": 17
  },
  {
   "metadata": {
    "ExecuteTime": {
     "end_time": "2024-05-24T15:22:21.857584Z",
     "start_time": "2024-05-24T15:22:21.841262Z"
    }
   },
   "cell_type": "code",
   "source": [
    "# Точність моделі\n",
    "nb_accuracy = accuracy_score(test_data['Sentiment'], nb_predictions)\n",
    "\n",
    "print(\"Наївний байєсівський класифікатор\")\n",
    "print(\"Точність моделі:\", nb_accuracy)"
   ],
   "id": "2368cce366354fa6",
   "outputs": [
    {
     "name": "stdout",
     "output_type": "stream",
     "text": [
      "Наївний байєсівський класифікатор\n",
      "Точність моделі: 0.7384459459459459\n"
     ]
    }
   ],
   "execution_count": 18
  },
  {
   "metadata": {
    "ExecuteTime": {
     "end_time": "2024-05-24T15:22:23.024470Z",
     "start_time": "2024-05-24T15:22:21.857584Z"
    }
   },
   "cell_type": "code",
   "source": [
    "# Матриця невідповідностей\n",
    "def plot_confusion_matrix(cm, name: str, labels:list):\n",
    "    plt.figure(figsize=(10, 7))\n",
    "    sns.heatmap(cm, annot=True, fmt='d', cmap='Blues', xticklabels=labels, yticklabels=labels)\n",
    "    plt.xlabel('Predicted')\n",
    "    plt.ylabel('Actual')\n",
    "    plt.title(f'Confusion Matrix - {name}')\n",
    "    plt.show()\n",
    "\n",
    "nb_confusion_matrix = confusion_matrix(test_data['Sentiment'], nb_predictions)\n",
    "plot_confusion_matrix(nb_confusion_matrix, 'Naive Bayes Classifier', ['Irrelevant', 'Negative', 'Neutral', 'Positive'])"
   ],
   "id": "15950f73481cd5f1",
   "outputs": [
    {
     "data": {
      "text/plain": [
       "<Figure size 1000x700 with 2 Axes>"
      ],
      "image/png": "[encoded data removed]"
     },
     "metadata": {},
     "output_type": "display_data"
    }
   ],
   "execution_count": 19
  },
  {
   "metadata": {},
   "cell_type": "markdown",
   "source": "б) Аналіз настроїв з використанням лексикону TextBlob",
   "id": "5103b8afeeab63be"
  },
  {
   "metadata": {
    "ExecuteTime": {
     "end_time": "2024-05-24T15:22:23.059447Z",
     "start_time": "2024-05-24T15:22:23.025986Z"
    }
   },
   "cell_type": "code",
   "source": "test_data_blob = test_data[test_data['Sentiment'] != 'Irrelevant'].copy()",
   "id": "bb723d0deaffa17f",
   "outputs": [],
   "execution_count": 20
  },
  {
   "metadata": {
    "ExecuteTime": {
     "end_time": "2024-05-24T15:22:23.067996Z",
     "start_time": "2024-05-24T15:22:23.059447Z"
    }
   },
   "cell_type": "code",
   "source": "test_data_blob['Sentiment'].value_counts()",
   "id": "30f746bd450f664",
   "outputs": [
    {
     "data": {
      "text/plain": [
       "Sentiment\n",
       "Negative    4380\n",
       "Positive    4119\n",
       "Neutral     3605\n",
       "Name: count, dtype: int64"
      ]
     },
     "execution_count": 21,
     "metadata": {},
     "output_type": "execute_result"
    }
   ],
   "execution_count": 21
  },
  {
   "metadata": {
    "ExecuteTime": {
     "end_time": "2024-05-24T15:22:25.197264Z",
     "start_time": "2024-05-24T15:22:23.067996Z"
    }
   },
   "cell_type": "code",
   "source": [
    "def analyze_sentiment(text):\n",
    "    blob = TextBlob(text)\n",
    "    polarity = blob.sentiment.polarity\n",
    "    if polarity > 0:\n",
    "        return \"Positive\"\n",
    "    elif polarity < 0:\n",
    "        return \"Negative\"\n",
    "    else:\n",
    "        return \"Neutral\"\n",
    "\n",
    "\n",
    "test_data_blob['TextBlob_Sentiment'] = test_data_blob['Text'].apply(analyze_sentiment)"
   ],
   "id": "a57ffe96cb26fb",
   "outputs": [],
   "execution_count": 22
  },
  {
   "metadata": {
    "ExecuteTime": {
     "end_time": "2024-05-24T15:22:25.210506Z",
     "start_time": "2024-05-24T15:22:25.199273Z"
    }
   },
   "cell_type": "code",
   "source": [
    "# Оцінка результатів\n",
    "textblob_accuracy = accuracy_score(test_data_blob['Sentiment'], test_data_blob['TextBlob_Sentiment'])\n",
    "\n",
    "print(\"\\nАналіз настроїв з використанням лексикону TextBlob\")\n",
    "print(\"Точність моделі:\", textblob_accuracy)"
   ],
   "id": "523fefc54a5941c3",
   "outputs": [
    {
     "name": "stdout",
     "output_type": "stream",
     "text": [
      "\n",
      "Аналіз настроїв з використанням лексикону TextBlob\n",
      "Точність моделі: 0.4838070059484468\n"
     ]
    }
   ],
   "execution_count": 23
  },
  {
   "metadata": {
    "ExecuteTime": {
     "end_time": "2024-05-24T15:22:25.434135Z",
     "start_time": "2024-05-24T15:22:25.211511Z"
    }
   },
   "cell_type": "code",
   "source": [
    "textblob_confusion_matrix = confusion_matrix(test_data_blob['Sentiment'], test_data_blob['TextBlob_Sentiment'])\n",
    "plot_confusion_matrix(textblob_confusion_matrix, 'TextBlob', ['Negative', 'Neutral', 'Positive'])"
   ],
   "id": "3005ba1e2e562d32",
   "outputs": [
    {
     "data": {
      "text/plain": [
       "<Figure size 1000x700 with 2 Axes>"
      ],
      "image/png": "[encoded data removed]"
     },
     "metadata": {},
     "output_type": "display_data"
    }
   ],
   "execution_count": 24
  },
  {
   "metadata": {},
   "cell_type": "markdown",
   "source": "в) Порівняння моделей",
   "id": "1d8a46f49a9c420f"
  },
  {
   "metadata": {
    "ExecuteTime": {
     "end_time": "2024-05-24T15:22:25.516699Z",
     "start_time": "2024-05-24T15:22:25.435159Z"
    }
   },
   "cell_type": "code",
   "source": [
    "# Вибір трьох випадкових записів\n",
    "random_samples = test_data_blob.sample(3)\n",
    "\n",
    "for index, row in random_samples.iterrows():\n",
    "    print(\"Запис №\", index + 1)\n",
    "    print(\"Текст:\", row['Text'])\n",
    "    print(\"Справжній настрій:\", row['Sentiment'])\n",
    "    print(\"Наївний байєсівський класифікатор:\", nb_classifier.predict(vectorizer.transform([row['Text']]))[0])\n",
    "    print(\"Лексикон TextBlob:\", analyze_sentiment(row['Text']))\n",
    "    print()"
   ],
   "id": "c324c0d0d5c5647c",
   "outputs": [
    {
     "name": "stdout",
     "output_type": "stream",
     "text": [
      "Запис № 20984\n",
      "Текст:  warcraft can you explain this bullshit thanks pictwittercom  welcuknz\n",
      "Справжній настрій: Negative\n",
      "Наївний байєсівський класифікатор: Negative\n",
      "Лексикон TextBlob: Positive\n",
      "\n",
      "Запис № 38893\n",
      "Текст: hearthstone duels firstplay thru  i am bad dont judge 'sr' song requests up drankin' dont feel alone twitchtvalphainnj\n",
      "Справжній настрій: Neutral\n",
      "Наївний байєсівський класифікатор: Neutral\n",
      "Лексикон TextBlob: Negative\n",
      "\n",
      "Запис № 30605\n",
      "Текст: the sfl region is a playable league of legends simulationfl\n",
      "Справжній настрій: Neutral\n",
      "Наївний байєсівський класифікатор: Neutral\n",
      "Лексикон TextBlob: Neutral\n",
      "\n"
     ]
    }
   ],
   "execution_count": 25
  },
  {
   "metadata": {},
   "cell_type": "markdown",
   "source": "##### 2. Використання бібліотеки spaCy",
   "id": "af1fed84868eb7c7"
  },
  {
   "metadata": {
    "ExecuteTime": {
     "end_time": "2024-05-24T15:22:31.775577Z",
     "start_time": "2024-05-24T15:22:25.517704Z"
    }
   },
   "cell_type": "code",
   "source": "import spacy",
   "id": "89e98cd6a86def0",
   "outputs": [],
   "execution_count": 26
  },
  {
   "metadata": {
    "ExecuteTime": {
     "end_time": "2024-05-24T15:22:33.146187Z",
     "start_time": "2024-05-24T15:22:31.776583Z"
    }
   },
   "cell_type": "code",
   "source": [
    "# Завантажуємо мовну модель\n",
    "nlp = spacy.load(\"en_core_web_sm\")"
   ],
   "id": "d6eeeb80feda421d",
   "outputs": [],
   "execution_count": 27
  },
  {
   "metadata": {
    "ExecuteTime": {
     "end_time": "2024-05-24T15:22:33.169190Z",
     "start_time": "2024-05-24T15:22:33.147194Z"
    }
   },
   "cell_type": "code",
   "source": [
    "# Зчитуємо текст з файлу\n",
    "with open('lab6-3.txt', 'r') as file:\n",
    "    text = file.read()\n",
    "\n",
    "text"
   ],
   "id": "8bff7e9473861057",
   "outputs": [
    {
     "data": {
      "text/plain": [
       "'Gordon Brown has issued a rallying cry, telling supporters the \"stakes are too high\" to stay at home or protest vote in the forthcoming general election.  The chancellor said the vote - expected to fall on 5 May - will give a \"clear and fundamental\" choice between Labour investment and Conservative cuts. Speaking at Labour\\'s spring conference in Gateshead, Mr Brown claimed the NHS was not safe in Conservative hands. He said Tory plans to cut Р’Р€35bn tax would \"cut deep into public service\".  To a packed audience at Gateshead\\'s Sage Centre, the chancellor said the cuts proposed by shadow chancellor Oliver Letwin were the equivalent of sacking every teacher, GP and nurse in the country, he told activists. Laying into the Conservative\\'s record in government he said: \"I give you this promise - with Labour, Britain will never return to the mistakes of ERM and 10% inflation, 15% interest rates, Р’Р€3bn in lost reserves, 250,000 repossessed, one million in negative equity and three million unemployed. \"Never again Tory boom and bust.  \"This will be the central dividing line at the election, between a Conservative Party taking Britain back and planning deep cuts of Р’Р€35bn in our services, and a Labour government taking Britain forward, which on a platform of stability will reform and renew our hospitals, schools and public services and, I am proud to say, spend by 2008 Р’Р€60bn more.\" Turning to the economy, the chancellor pledged to continue economic stability and growth in a third term in power.  He said after seven years Labour had transformed from a party not trusted with the economy to \"the only party trusted with the economy\". It was now a \"party not just of employees, but of employers and managers\", he said. In the speech - which prompted a standing ovation from an audience clearly \"warm\" to Mr Brown - he also promised to end teenage unemployment within the next five years. He also highlighted plans for 100% debt relief for the world\\'s poorest countries, a national minimum wage for 16 and 17-year-olds and the creation of a network of children\\'s centres and flexibility in maternity leave. The prime minister is to take part later on Saturday in an interactive question and answer session, fielding queries sent in by e-mail, text message and telephone as part of Labour\\'s attempt to engage the public in their campaign. '"
      ]
     },
     "execution_count": 28,
     "metadata": {},
     "output_type": "execute_result"
    }
   ],
   "execution_count": 28
  },
  {
   "metadata": {
    "ExecuteTime": {
     "end_time": "2024-05-24T15:22:33.519231Z",
     "start_time": "2024-05-24T15:22:33.170197Z"
    }
   },
   "cell_type": "code",
   "source": [
    "# Обробляємо текст за допомогою spaCy\n",
    "doc = nlp(text)"
   ],
   "id": "a7e3bcc6df2bd033",
   "outputs": [],
   "execution_count": 29
  },
  {
   "metadata": {
    "ExecuteTime": {
     "end_time": "2024-05-24T15:22:33.525647Z",
     "start_time": "2024-05-24T15:22:33.520239Z"
    }
   },
   "cell_type": "code",
   "source": [
    "# а) Знайти та вивести стоп-слова, які присутні у тексті\n",
    "stop_words = [token.text for token in doc if token.is_stop]\n",
    "print(\"Stop words in the text:\")\n",
    "print(set(stop_words))\n"
   ],
   "id": "912fc9bf59320acd",
   "outputs": [
    {
     "name": "stdout",
     "output_type": "stream",
     "text": [
      "Stop words in the text:\n",
      "{'as', 'by', 'third', 'never', 'It', 'three', 'for', 'you', 'will', 'back', 'was', 'with', 'take', 'more', \"'s\", 'into', 'within', 'is', 'would', 'one', 'part', 'next', 'again', 'too', 'he', 'but', 'and', 'give', 'I', 'our', 'or', 'in', 'be', 'which', 'had', 'this', 'now', 'of', 'from', 'five', 'are', 'on', 'a', 'between', 'every', 'just', 'also', 'He', 'am', 'an', 'has', 'at', 'The', 'In', 'not', 'May', 'the', 'after', 'say', 'their', 'Never', 'only', 'were', 'This', 'to', 'To'}\n"
     ]
    }
   ],
   "execution_count": 30
  },
  {
   "metadata": {
    "ExecuteTime": {
     "end_time": "2024-05-24T15:22:33.538672Z",
     "start_time": "2024-05-24T15:22:33.526659Z"
    }
   },
   "cell_type": "code",
   "source": [
    "# б) Знайти та вивести всі іменники, які присутні у тексті\n",
    "nouns = [token.text for token in doc if token.pos_ == \"NOUN\"]\n",
    "print(\"\\nNouns in the text:\")\n",
    "print(set(nouns))"
   ],
   "id": "74f549ee0dca683f",
   "outputs": [
    {
     "name": "stdout",
     "output_type": "stream",
     "text": [
      "\n",
      "Nouns in the text:\n",
      "{'relief', 'maternity', 'minister', 'centres', 'supporters', 'nurse', 'cuts', 'years', 'flexibility', 'wage', 'e', 'spring', 'services', 'term', 'party', 'growth', 'network', 'attempt', 'creation', 'investment', 'stakes', 'record', 'minimum', 'world', '%', 'equity', 'country', 'schools', 'cry', 'ovation', 'government', 'unemployment', 'plans', 'choice', 'line', 'message', 'olds', 'home', 'public', 'employees', 'bust', 'election', '-', 'economy', 'activists', 'employers', 'part', 'conference', 'speech', 'service', 'inflation', 'telephone', 'dividing', 'promise', 'children', 'protest', 'queries', 'mistakes', 'text', 'answer', 'Р’Р€35bn', 'audience', 'teacher', 'year', 'power', 'mail', 'chancellor', 'rates', 'tax', 'session', 'stability', 'equivalent', 'platform', 'managers', 'leave', 'debt', 'vote', 'interest', 'reserves', 'campaign', 'hospitals', 'countries', 'boom', 'question', 'hands'}\n"
     ]
    }
   ],
   "execution_count": 31
  },
  {
   "metadata": {
    "ExecuteTime": {
     "end_time": "2024-05-24T15:22:33.544428Z",
     "start_time": "2024-05-24T15:22:33.538672Z"
    }
   },
   "cell_type": "code",
   "source": [
    "# в) Знайти та вивести числа і організації, які присутні у тексті\n",
    "numbers = [ent.text for ent in doc.ents if ent.label_ == \"CARDINAL\"]\n",
    "organizations = [ent.text for ent in doc.ents if ent.label_ == \"ORG\"]\n",
    "print(\"\\nNumbers in the text:\")\n",
    "print(set(numbers))\n",
    "print(\"\\nOrganizations in the text:\")\n",
    "print(set(organizations))"
   ],
   "id": "bba2fa4fb797c362",
   "outputs": [
    {
     "name": "stdout",
     "output_type": "stream",
     "text": [
      "\n",
      "Numbers in the text:\n",
      "{'250,000', 'one million', '5', 'three million', '16'}\n",
      "\n",
      "Organizations in the text:\n",
      "{'NHS', 'GP', \"Gateshead's Sage Centre\", 'ERM', 'Conservative Party', 'Labour', 'Conservative'}\n"
     ]
    }
   ],
   "execution_count": 32
  }
 ],
 "metadata": {
  "kernelspec": {
   "display_name": "Python 3",
   "language": "python",
   "name": "python3"
  },
  "language_info": {
   "codemirror_mode": {
    "name": "ipython",
    "version": 2
   },
   "file_extension": ".py",
   "mimetype": "text/x-python",
   "name": "python",
   "nbconvert_exporter": "python",
   "pygments_lexer": "ipython2",
   "version": "2.7.6"
  }
 },
 "nbformat": 4,
 "nbformat_minor": 5
}
