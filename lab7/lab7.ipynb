{
 "cells": [
  {
   "metadata": {},
   "cell_type": "markdown",
   "source": "## Лабораторна робота 7",
   "id": "c1c4d9eef79f7909"
  },
  {
   "metadata": {},
   "cell_type": "markdown",
   "source": [
    "1. Створити кілька своїх прикладів у форматі json за тематикою варіанту\n",
    "(англійською або українською мовою) для розпізнавання нового типу\n",
    "сутностей (обрати самостійно). Створити програму, що додає ці\n",
    "приклади до існуючої моделі spaCy, навчає модель. Продемонструвати\n",
    "роботу.\n",
    "\n",
    "2. Застосувати компонент TextCategorizer для визначення намірів. Дані для\n",
    "навчання за тематикою варіанту обрати самостійно або скористатись\n",
    "вказаним файлом (utterance містить висловлювання, intent - намір). Дані\n",
    "файли містять приклади діалогів користувачів з системою-помічником за\n",
    "певною тематикою, наприклад, замовлення квитків і т.д. Навчити\n",
    "компонент та продемонструвати роботу."
   ],
   "id": "5df28d30bf33b1c6"
  },
  {
   "metadata": {},
   "cell_type": "markdown",
   "source": "##### 1. Додавання нових прикладів розпізнавання в уже існуючу модель spaCy",
   "id": "fd9881ff5c0ee87a"
  },
  {
   "metadata": {
    "ExecuteTime": {
     "end_time": "2024-05-23T17:32:43.872962Z",
     "start_time": "2024-05-23T17:32:43.864368Z"
    }
   },
   "cell_type": "code",
   "source": [
    "import spacy\n",
    "from spacy.training import Example, offsets_to_biluo_tags\n",
    "import random"
   ],
   "id": "84dd72b893ed0533",
   "outputs": [],
   "execution_count": 96
  },
  {
   "metadata": {
    "ExecuteTime": {
     "end_time": "2024-05-23T17:32:47.200461Z",
     "start_time": "2024-05-23T17:32:44.163339Z"
    }
   },
   "cell_type": "code",
   "source": [
    "# Завантажуємо модель spaCy\n",
    "nlp = spacy.load(\"en_core_web_md\")"
   ],
   "id": "c8451632e3f4a80e",
   "outputs": [],
   "execution_count": 97
  },
  {
   "metadata": {
    "ExecuteTime": {
     "end_time": "2024-05-23T17:35:23.133175Z",
     "start_time": "2024-05-23T17:35:23.125541Z"
    }
   },
   "cell_type": "code",
   "source": [
    "# Cтворюємо нові приклади з категорією номер рахунку\n",
    "train_data = [\n",
    "    (\"Please transfer 87893789 bucks to account number 12345678.\", {\"entities\": [(49, 57, \"ACCOUNT_NUMBER\")]}),\n",
    "    (\"The account number for the transfer is 87654321.\", {\"entities\": [(39, 47, \"ACCOUNT_NUMBER\")]}),\n",
    "    (\"Send the money to 11223344 immediately.\", {\"entities\": [(18, 26, \"ACCOUNT_NUMBER\")]}),\n",
    "]"
   ],
   "id": "4f73d006ea29a924",
   "outputs": [],
   "execution_count": 115
  },
  {
   "metadata": {
    "ExecuteTime": {
     "end_time": "2024-05-23T17:35:24.304208Z",
     "start_time": "2024-05-23T17:35:24.290105Z"
    }
   },
   "cell_type": "code",
   "source": [
    "# Перевірка правильності індексів сутностей\n",
    "for text, annotations in train_data:\n",
    "    doc = nlp.make_doc(text)\n",
    "    entities = annotations[\"entities\"]\n",
    "    tags = offsets_to_biluo_tags(doc, entities)\n",
    "    \n",
    "    print(f\"Text: {text}\")\n",
    "    print(f\"Entities: {entities}\")\n",
    "    print(f\"BILUO Tags: {tags}\\n\")"
   ],
   "id": "69ec965c18288c29",
   "outputs": [
    {
     "name": "stdout",
     "output_type": "stream",
     "text": [
      "Text: Please transfer 87893789 bucks to account number 12345678.\n",
      "Entities: [(49, 57, 'ACCOUNT_NUMBER')]\n",
      "BILUO Tags: ['O', 'O', 'O', 'O', 'O', 'O', 'O', 'U-ACCOUNT_NUMBER', 'O']\n",
      "\n",
      "Text: The account number for the transfer is 87654321.\n",
      "Entities: [(39, 47, 'ACCOUNT_NUMBER')]\n",
      "BILUO Tags: ['O', 'O', 'O', 'O', 'O', 'O', 'O', 'U-ACCOUNT_NUMBER', 'O']\n",
      "\n",
      "Text: Send the money to 11223344 immediately.\n",
      "Entities: [(18, 26, 'ACCOUNT_NUMBER')]\n",
      "BILUO Tags: ['O', 'O', 'O', 'O', 'U-ACCOUNT_NUMBER', 'O', 'O']\n",
      "\n"
     ]
    }
   ],
   "execution_count": 116
  },
  {
   "metadata": {
    "ExecuteTime": {
     "end_time": "2024-05-23T17:32:47.256823Z",
     "start_time": "2024-05-23T17:32:47.247453Z"
    }
   },
   "cell_type": "code",
   "source": [
    "# Додаємо новий тег для розпізнавання\n",
    "ner = nlp.get_pipe(\"ner\")\n",
    "ner.add_label(\"ACCOUNT_NUMBER\")"
   ],
   "id": "2837f004dec8c94d",
   "outputs": [
    {
     "data": {
      "text/plain": [
       "1"
      ]
     },
     "execution_count": 100,
     "metadata": {},
     "output_type": "execute_result"
    }
   ],
   "execution_count": 100
  },
  {
   "metadata": {
    "ExecuteTime": {
     "end_time": "2024-05-23T17:32:47.262063Z",
     "start_time": "2024-05-23T17:32:47.256823Z"
    }
   },
   "cell_type": "code",
   "source": [
    "# Готуємо приклади\n",
    "train_examples = [Example.from_dict(nlp.make_doc(text), annotations) for text, annotations in train_data]"
   ],
   "id": "96fb56b82704ea31",
   "outputs": [],
   "execution_count": 101
  },
  {
   "metadata": {
    "ExecuteTime": {
     "end_time": "2024-05-23T17:32:49.690276Z",
     "start_time": "2024-05-23T17:32:47.263570Z"
    }
   },
   "cell_type": "code",
   "source": [
    "# Навчання моделі\n",
    "other_pipes = [pipe for pipe in nlp.pipe_names if pipe != \"ner\"]\n",
    "epoches = 20\n",
    "\n",
    "# Вимикаємо усі компоненти\n",
    "with nlp.disable_pipes(*other_pipes):\n",
    "    optimizer = nlp.create_optimizer()\n",
    "    for epoch in range(epoches): \n",
    "        random.shuffle(train_examples)\n",
    "        for example in train_examples:\n",
    "            nlp.update([example], sgd=optimizer)\n"
   ],
   "id": "79569d82134b6415",
   "outputs": [],
   "execution_count": 102
  },
  {
   "metadata": {
    "ExecuteTime": {
     "end_time": "2024-05-23T17:32:50.136152Z",
     "start_time": "2024-05-23T17:32:49.690276Z"
    }
   },
   "cell_type": "code",
   "source": [
    "# Зберігаємо нову модель\n",
    "ner.to_disk(\"new_ner_model\")"
   ],
   "id": "24345187d34598aa",
   "outputs": [],
   "execution_count": 103
  },
  {
   "metadata": {
    "ExecuteTime": {
     "end_time": "2024-05-23T17:32:50.165417Z",
     "start_time": "2024-05-23T17:32:50.136152Z"
    }
   },
   "cell_type": "code",
   "source": [
    "# Тестуємо модель\n",
    "test_text = [\"Transfer 1000 bucks to the account 98765432.\",\n",
    "             \"Make it one thousand one hundred and sixty bucks, but it's going to 11235432.\",\n",
    "             \"Transfer 98765432 bucks to the account 1111111.\",]\n",
    "\n",
    "for text in test_text:\n",
    "    doc = nlp(text)\n",
    "    print(\"Entities:\", [(ent.text, ent.label_) for ent in doc.ents])"
   ],
   "id": "fdd2e94302202a77",
   "outputs": [
    {
     "name": "stdout",
     "output_type": "stream",
     "text": [
      "Entities: [('98765432', 'ACCOUNT_NUMBER')]\n",
      "Entities: [('11235432', 'ACCOUNT_NUMBER')]\n",
      "Entities: [('1111111', 'ACCOUNT_NUMBER')]\n"
     ]
    }
   ],
   "execution_count": 104
  },
  {
   "metadata": {},
   "cell_type": "markdown",
   "source": "##### 2.Використання TextCategorizer для визначення намірів",
   "id": "94b295663e5bb333"
  },
  {
   "metadata": {
    "ExecuteTime": {
     "end_time": "2024-05-23T17:32:50.170777Z",
     "start_time": "2024-05-23T17:32:50.165417Z"
    }
   },
   "cell_type": "code",
   "source": "from spacy.pipeline.textcat import DEFAULT_SINGLE_TEXTCAT_MODEL",
   "id": "ef1f69e3c214b6b1",
   "outputs": [],
   "execution_count": 105
  },
  {
   "metadata": {
    "ExecuteTime": {
     "end_time": "2024-05-23T17:32:51.584549Z",
     "start_time": "2024-05-23T17:32:50.170777Z"
    }
   },
   "cell_type": "code",
   "source": [
    "# Завантаження існуючої моделі spaCy\n",
    "nlp = spacy.load(\"en_core_web_md\")"
   ],
   "id": "480fe626bc40991f",
   "outputs": [],
   "execution_count": 106
  },
  {
   "metadata": {
    "ExecuteTime": {
     "end_time": "2024-05-23T17:32:51.592314Z",
     "start_time": "2024-05-23T17:32:51.584549Z"
    }
   },
   "cell_type": "code",
   "source": [
    "# Приклад даних з файлу banks.json\n",
    "train_data = [\n",
    "    # TransferMoney\n",
    "    (\"I want to send $200 to my friend.\", {\"cats\": {\"TransferMoney\": 1.0}}),\n",
    "    (\"Please transfer $1000 to John's account.\", {\"cats\": {\"TransferMoney\": 1.0}}),\n",
    "    (\"Transfer $300 to my savings account.\", {\"cats\": {\"TransferMoney\": 1.0}}),\n",
    "    \n",
    "    # CheckBalance\n",
    "    (\"Can you check my account balance?\", {\"cats\": {\"CheckBalance\": 1.0}}),\n",
    "    (\"What is the balance in my savings account?\", {\"cats\": {\"CheckBalance\": 1.0}}),\n",
    "    (\"Tell me my current balance.\", {\"cats\": {\"CheckBalance\": 1.0}}),\n",
    "    \n",
    "    # ConfirmTransfer\n",
    "    (\"Yes, I confirm the transfer of $500.\", {\"cats\": {\"ConfirmTransfer\": 1.0}}),\n",
    "    (\"I authorize the transfer of $300 to my friend.\", {\"cats\": {\"ConfirmTransfer\": 1.0}}),\n",
    "    (\"Confirm that I want to send $200 to John's account.\", {\"cats\": {\"ConfirmTransfer\": 1.0}})\n",
    "]"
   ],
   "id": "ff7a2a7f7806d7cb",
   "outputs": [],
   "execution_count": 107
  },
  {
   "metadata": {
    "ExecuteTime": {
     "end_time": "2024-05-23T17:32:51.658462Z",
     "start_time": "2024-05-23T17:32:51.593385Z"
    }
   },
   "cell_type": "code",
   "source": [
    "# Додавання TextCategorizer до конвеєра обробки природньої мови\n",
    "config = {\n",
    "    \"threshold\": 0.5,\n",
    "    \"model\": DEFAULT_SINGLE_TEXTCAT_MODEL  \n",
    "}\n",
    "\n",
    "textcat = nlp.add_pipe(\"textcat\", config=config)"
   ],
   "id": "71fa6f6a9370ef42",
   "outputs": [],
   "execution_count": 108
  },
  {
   "metadata": {
    "ExecuteTime": {
     "end_time": "2024-05-23T17:32:51.666412Z",
     "start_time": "2024-05-23T17:32:51.658462Z"
    }
   },
   "cell_type": "code",
   "source": [
    "# Додавання міток категорій (намірів)\n",
    "textcat.add_label(\"TransferMoney\")\n",
    "textcat.add_label(\"CheckBalance\")\n",
    "textcat.add_label(\"ConfirmTransfer\")"
   ],
   "id": "30d5b3b4df0a0cf6",
   "outputs": [
    {
     "data": {
      "text/plain": [
       "1"
      ]
     },
     "execution_count": 109,
     "metadata": {},
     "output_type": "execute_result"
    }
   ],
   "execution_count": 109
  },
  {
   "metadata": {
    "ExecuteTime": {
     "end_time": "2024-05-23T17:32:56.889382Z",
     "start_time": "2024-05-23T17:32:51.666412Z"
    }
   },
   "cell_type": "code",
   "source": [
    "# Підготовка навчальних прикладів\n",
    "train_examples = [Example.from_dict(nlp.make_doc(text), annotations) for text, annotations in train_data]\n",
    "\n",
    "# Ініціалізація компонента TextCategorizer\n",
    "textcat.initialize(lambda: train_examples, nlp=nlp)\n",
    "\n",
    "# Навчання моделі\n",
    "epochs = 20\n",
    "with nlp.select_pipes(enable=\"textcat\"):\n",
    "    optimizer = nlp.resume_training()\n",
    "    for epoch in range(epochs):\n",
    "        random.shuffle(train_examples)\n",
    "        for example in train_examples:\n",
    "            nlp.update([example], sgd=optimizer)\n"
   ],
   "id": "9bd7edc15faadc82",
   "outputs": [],
   "execution_count": 110
  },
  {
   "metadata": {
    "ExecuteTime": {
     "end_time": "2024-05-23T17:32:57.450750Z",
     "start_time": "2024-05-23T17:32:56.889382Z"
    }
   },
   "cell_type": "code",
   "source": [
    "# Збереження навченої моделі\n",
    "nlp.to_disk(\"intent_model\")"
   ],
   "id": "ba7aed716a0a5787",
   "outputs": [],
   "execution_count": 111
  },
  {
   "metadata": {
    "ExecuteTime": {
     "end_time": "2024-05-23T17:32:59.017863Z",
     "start_time": "2024-05-23T17:32:57.452111Z"
    }
   },
   "cell_type": "code",
   "source": [
    "# Завантаження навченої моделі для тестування\n",
    "my_model = spacy.load(\"intent_model\")\n",
    "\n",
    "# Тестування моделі\n",
    "test_text = [\"I would like to transfer $200 to my savings account.\",\n",
    "             \"Transfer $400 from my checking account.\",\n",
    "             \n",
    "            \"Could you please check my account balance?\", \n",
    "            \"Your savings is sitting at $11,339.61 right now\",\n",
    "             \n",
    "            \"Yes, I authorize the transfer of $300 to my friend.\"]\n",
    "\n",
    "\n",
    "for text in test_text:\n",
    "    doc = my_model(text)\n",
    "    print(\"Text:\", text)\n",
    "    print(\"Categories:\", doc.cats, end=\"\\n\\n\")"
   ],
   "id": "63dcc068529c5bc6",
   "outputs": [
    {
     "name": "stdout",
     "output_type": "stream",
     "text": [
      "Text: I would like to transfer $200 to my savings account.\n",
      "Categories: {'TransferMoney': 0.9945172667503357, 'CheckBalance': 0.0017630599904805422, 'ConfirmTransfer': 0.0037196753546595573}\n",
      "\n",
      "Text: Transfer $400 from my checking account.\n",
      "Categories: {'TransferMoney': 0.9405916929244995, 'CheckBalance': 0.04289665073156357, 'ConfirmTransfer': 0.01651166006922722}\n",
      "\n",
      "Text: Could you please check my account balance?\n",
      "Categories: {'TransferMoney': 0.0006578673492185771, 'CheckBalance': 0.9988841414451599, 'ConfirmTransfer': 0.0004579682135954499}\n",
      "\n",
      "Text: Your savings is sitting at $11,339.61 right now\n",
      "Categories: {'TransferMoney': 0.07760903239250183, 'CheckBalance': 0.5011147856712341, 'ConfirmTransfer': 0.4212762415409088}\n",
      "\n",
      "Text: Yes, I authorize the transfer of $300 to my friend.\n",
      "Categories: {'TransferMoney': 0.0002088824548991397, 'CheckBalance': 0.00019267962488811463, 'ConfirmTransfer': 0.9995984435081482}\n",
      "\n"
     ]
    }
   ],
   "execution_count": 112
  }
 ],
 "metadata": {
  "kernelspec": {
   "display_name": "Python 3",
   "language": "python",
   "name": "python3"
  },
  "language_info": {
   "codemirror_mode": {
    "name": "ipython",
    "version": 2
   },
   "file_extension": ".py",
   "mimetype": "text/x-python",
   "name": "python",
   "nbconvert_exporter": "python",
   "pygments_lexer": "ipython2",
   "version": "2.7.6"
  }
 },
 "nbformat": 4,
 "nbformat_minor": 5
}
